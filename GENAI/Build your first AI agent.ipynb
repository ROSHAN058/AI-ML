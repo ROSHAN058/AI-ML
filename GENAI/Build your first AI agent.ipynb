{
 "cells": [
  {
   "cell_type": "markdown",
   "metadata": {
    "application/vnd.databricks.v1+cell": {
     "cellMetadata": {},
     "inputWidgets": {},
     "nuid": "d5db30ff-2193-48c0-acaa-e18a3f15b8d1",
     "showTitle": false,
     "tableResultSettingsMap": {},
     "title": ""
    }
   },
   "source": [
    "# AI-Driven Data Intelligence for Smarter Cookie Franchises\n",
    "\n",
    "Welcome to this demo, where you’ll build a powerful AI agent tailored for a cookie franchise business. This agent is designed to empower franchise owners to analyze customer data, create targeted marketing campaigns, and develop data-driven sales strategies that improve their operations.\n",
    "\n",
    "By using data intelligence rather than generic insights, franchises can understand top-selling products and create campaigns based on actual sales data.\n",
    "\n",
    "This notebook will guide you through creating and registering simple functions in Unity Catalog, providing governed access to insights. You'll then build a chat-based AI using these functions, enabling franchises to develop smarter, data-driven campaigns.\n",
    "\n",
    "Here's what we'll cover:\n",
    "\n",
    "- Creating and registering SQL functions in Unity Catalog\n",
    "- Using Langchain to integrate these functions as tools\n",
    "- Building an AI agent to execute these tools and tackle complex questions"
   ]
  },
  {
   "cell_type": "code",
   "execution_count": 0,
   "metadata": {
    "application/vnd.databricks.v1+cell": {
     "cellMetadata": {
      "byteLimit": 2048000,
      "rowLimit": 10000
     },
     "inputWidgets": {},
     "nuid": "ff010c56-43ba-4b38-8d0d-052dc9b9c328",
     "showTitle": false,
     "tableResultSettingsMap": {},
     "title": ""
    }
   },
   "outputs": [
    {
     "output_type": "stream",
     "name": "stdout",
     "output_type": "stream",
     "text": [
      "\u001B[43mNote: you may need to restart the kernel using %restart_python or dbutils.library.restartPython() to use updated packages.\u001B[0m\n"
     ]
    }
   ],
   "source": [
    "%pip install -q langchain-community==0.2.16 langchain-openai==0.1.19 mlflow==2.15.1 databricks-agents==0.5.0 langchain==0.2.16\n",
    "%restart_python"
   ]
  },
  {
   "cell_type": "markdown",
   "metadata": {
    "application/vnd.databricks.v1+cell": {
     "cellMetadata": {},
     "inputWidgets": {},
     "nuid": "71069b3e-dfb7-4186-94e5-822c8ec8d5be",
     "showTitle": false,
     "tableResultSettingsMap": {},
     "title": ""
    }
   },
   "source": [
    "\n",
    "## Step 1: Function/Tool Creation in Unity Catalog\n",
    "\n",
    "You'll create two functions:\n",
    "- A simple query to retrieve an ID based on a city name\n",
    "- An aggregate query that returns sales data for a given ID"
   ]
  },
  {
   "cell_type": "code",
   "execution_count": 0,
   "metadata": {
    "application/vnd.databricks.v1+cell": {
     "cellMetadata": {
      "byteLimit": 2048000,
      "implicitDf": true,
      "rowLimit": 10000
     },
     "inputWidgets": {},
     "nuid": "ba467e8d-49a2-4e25-9837-75f4ab8f48db",
     "showTitle": true,
     "tableResultSettingsMap": {},
     "title": "Create Franchise by City Function"
    }
   },
   "outputs": [],
   "source": [
    "%sql\n",
    "-- First lets make sure it doesnt already exist\n",
    "DROP FUNCTION IF EXISTS workspace.default.franchise_by_city;\n",
    "-- Now we create our first function. This takes in a city name and returns a table of any franchises that are in that city.\n",
    "-- Note that we've added a comment to the input parameter to help guide the agent later on.\n",
    "CREATE OR REPLACE FUNCTION\n",
    "workspace.default.franchise_by_city(\n",
    "  city_name STRING COMMENT 'City to be searched'\n",
    ")\n",
    "returns table(franchiseID BIGINT, name STRING, size STRING)\n",
    "return\n",
    "(SELECT franchiseID, name, size from samples.bakehouse.sales_franchises where city=city_name \n",
    "     order by size desc)\n"
   ]
  },
  {
   "cell_type": "code",
   "execution_count": 0,
   "metadata": {
    "application/vnd.databricks.v1+cell": {
     "cellMetadata": {
      "byteLimit": 2048000,
      "implicitDf": true,
      "rowLimit": 10000
     },
     "inputWidgets": {},
     "nuid": "aadcb56f-98ed-4ec3-856a-9bb2e1377f74",
     "showTitle": true,
     "tableResultSettingsMap": {},
     "title": "Test Franchise by City Function"
    }
   },
   "outputs": [
    {
     "output_type": "display_data",
     "data": {
      "text/html": [
       "<style scoped>\n",
       "  .table-result-container {\n",
       "    max-height: 300px;\n",
       "    overflow: auto;\n",
       "  }\n",
       "  table, th, td {\n",
       "    border: 1px solid black;\n",
       "    border-collapse: collapse;\n",
       "  }\n",
       "  th, td {\n",
       "    padding: 5px;\n",
       "  }\n",
       "  th {\n",
       "    text-align: left;\n",
       "  }\n",
       "</style><div class='table-result-container'><table class='table-result'><thead style='background-color: white'><tr><th>franchiseID</th><th>name</th><th>size</th></tr></thead><tbody><tr><td>3000038</td><td>Dough Delights</td><td>XXL</td></tr><tr><td>3000014</td><td>Sweet Temptations</td><td>L</td></tr></tbody></table></div>"
      ]
     },
     "metadata": {
      "application/vnd.databricks.v1+output": {
       "addedWidgets": {},
       "aggData": [],
       "aggError": "",
       "aggOverflow": false,
       "aggSchema": [],
       "aggSeriesLimitReached": false,
       "aggType": "",
       "arguments": {},
       "columnCustomDisplayInfos": {},
       "data": [
        [
         3000038,
         "Dough Delights",
         "XXL"
        ],
        [
         3000014,
         "Sweet Temptations",
         "L"
        ]
       ],
       "datasetInfos": [
        {
         "name": "_sqldf",
         "schema": {
          "fields": [
           {
            "metadata": {},
            "name": "franchiseID",
            "nullable": true,
            "type": "long"
           },
           {
            "metadata": {},
            "name": "name",
            "nullable": true,
            "type": "string"
           },
           {
            "metadata": {},
            "name": "size",
            "nullable": true,
            "type": "string"
           }
          ],
          "type": "struct"
         },
         "tableIdentifier": null,
         "typeStr": "pyspark.sql.connect.dataframe.DataFrame"
        }
       ],
       "dbfsResultPath": null,
       "isJsonSchema": true,
       "metadata": {
        "createTempViewForImplicitDf": true,
        "dataframeName": "_sqldf",
        "executionCount": 2
       },
       "overflow": false,
       "plotOptions": {
        "customPlotOptions": {},
        "displayType": "table",
        "pivotAggregation": null,
        "pivotColumns": null,
        "xColumns": null,
        "yColumns": null
       },
       "removedWidgets": [],
       "schema": [
        {
         "metadata": "{}",
         "name": "franchiseID",
         "type": "\"long\""
        },
        {
         "metadata": "{}",
         "name": "name",
         "type": "\"string\""
        },
        {
         "metadata": "{}",
         "name": "size",
         "type": "\"string\""
        }
       ],
       "type": "table"
      }
     },
     "output_type": "display_data"
    }
   ],
   "source": [
    "%sql\n",
    "-- Test the function we just created\n",
    "SELECT * from workspace.default.franchise_by_city('Seattle')"
   ]
  },
  {
   "cell_type": "code",
   "execution_count": 0,
   "metadata": {
    "application/vnd.databricks.v1+cell": {
     "cellMetadata": {
      "byteLimit": 2048000,
      "implicitDf": true,
      "rowLimit": 10000
     },
     "inputWidgets": {},
     "nuid": "90ba5e00-9c24-4261-af17-277a93d58643",
     "showTitle": true,
     "tableResultSettingsMap": {},
     "title": "Create Sales Function"
    }
   },
   "outputs": [],
   "source": [
    "%sql\n",
    "-- Again check that it exists\n",
    "DROP FUNCTION IF EXISTS workspace.default.franchise_sales;\n",
    "-- This function takes an ID as input, and this time does an aggregate to return the sales for that franchise_id.\n",
    "CREATE OR REPLACE FUNCTION\n",
    "workspace.default.franchise_sales (\n",
    "  franchise_id BIGINT COMMENT 'ID of the franchise to be searched'\n",
    ")\n",
    "returns table(total_sales BIGINT, total_quantity BIGINT, product STRING)\n",
    "return\n",
    "(SELECT SUM(totalPrice) AS total_sales, SUM(quantity) AS total_quantity, product \n",
    "FROM samples.bakehouse.sales_transactions \n",
    "WHERE franchiseID = franchise_id GROUP BY product)"
   ]
  },
  {
   "cell_type": "code",
   "execution_count": 0,
   "metadata": {
    "application/vnd.databricks.v1+cell": {
     "cellMetadata": {
      "byteLimit": 2048000,
      "implicitDf": true,
      "rowLimit": 10000
     },
     "inputWidgets": {},
     "nuid": "de5dd484-c3b9-422e-80a7-f41fff690d58",
     "showTitle": true,
     "tableResultSettingsMap": {},
     "title": "Test Sales Function"
    }
   },
   "outputs": [
    {
     "output_type": "display_data",
     "data": {
      "text/html": [
       "<style scoped>\n",
       "  .table-result-container {\n",
       "    max-height: 300px;\n",
       "    overflow: auto;\n",
       "  }\n",
       "  table, th, td {\n",
       "    border: 1px solid black;\n",
       "    border-collapse: collapse;\n",
       "  }\n",
       "  th, td {\n",
       "    padding: 5px;\n",
       "  }\n",
       "  th {\n",
       "    text-align: left;\n",
       "  }\n",
       "</style><div class='table-result-container'><table class='table-result'><thead style='background-color: white'><tr><th>total_sales</th><th>total_quantity</th><th>product</th></tr></thead><tbody><tr><td>138</td><td>46</td><td>Pearly Pies</td></tr><tr><td>348</td><td>116</td><td>Outback Oatmeal</td></tr><tr><td>108</td><td>36</td><td>Austin Almond Biscotti</td></tr><tr><td>108</td><td>36</td><td>Orchard Oasis</td></tr><tr><td>51</td><td>17</td><td>Tokyo Tidbits</td></tr><tr><td>189</td><td>63</td><td>Golden Gate Ginger</td></tr></tbody></table></div>"
      ]
     },
     "metadata": {
      "application/vnd.databricks.v1+output": {
       "addedWidgets": {},
       "aggData": [],
       "aggError": "",
       "aggOverflow": false,
       "aggSchema": [],
       "aggSeriesLimitReached": false,
       "aggType": "",
       "arguments": {},
       "columnCustomDisplayInfos": {},
       "data": [
        [
         138,
         46,
         "Pearly Pies"
        ],
        [
         348,
         116,
         "Outback Oatmeal"
        ],
        [
         108,
         36,
         "Austin Almond Biscotti"
        ],
        [
         108,
         36,
         "Orchard Oasis"
        ],
        [
         51,
         17,
         "Tokyo Tidbits"
        ],
        [
         189,
         63,
         "Golden Gate Ginger"
        ]
       ],
       "datasetInfos": [
        {
         "name": "_sqldf",
         "schema": {
          "fields": [
           {
            "metadata": {},
            "name": "total_sales",
            "nullable": true,
            "type": "long"
           },
           {
            "metadata": {},
            "name": "total_quantity",
            "nullable": true,
            "type": "long"
           },
           {
            "metadata": {},
            "name": "product",
            "nullable": true,
            "type": "string"
           }
          ],
          "type": "struct"
         },
         "tableIdentifier": null,
         "typeStr": "pyspark.sql.connect.dataframe.DataFrame"
        }
       ],
       "dbfsResultPath": null,
       "isJsonSchema": true,
       "metadata": {
        "createTempViewForImplicitDf": true,
        "dataframeName": "_sqldf",
        "executionCount": 4
       },
       "overflow": false,
       "plotOptions": {
        "customPlotOptions": {},
        "displayType": "table",
        "pivotAggregation": null,
        "pivotColumns": null,
        "xColumns": null,
        "yColumns": null
       },
       "removedWidgets": [],
       "schema": [
        {
         "metadata": "{}",
         "name": "total_sales",
         "type": "\"long\""
        },
        {
         "metadata": "{}",
         "name": "total_quantity",
         "type": "\"long\""
        },
        {
         "metadata": "{}",
         "name": "product",
         "type": "\"string\""
        }
       ],
       "type": "table"
      }
     },
     "output_type": "display_data"
    }
   ],
   "source": [
    "%sql\n",
    "-- Check the sales function works - we're going to use the franchise_id from the previous query\n",
    "Select * from workspace.default.franchise_sales(3000038)"
   ]
  },
  {
   "cell_type": "code",
   "execution_count": 0,
   "metadata": {
    "application/vnd.databricks.v1+cell": {
     "cellMetadata": {
      "byteLimit": 2048000,
      "rowLimit": 10000
     },
     "inputWidgets": {},
     "nuid": "7b460cbf-028b-4cc7-aa27-5d4c2a04d09f",
     "showTitle": false,
     "tableResultSettingsMap": {},
     "title": ""
    }
   },
   "outputs": [
    {
     "output_type": "stream",
     "name": "stderr",
     "output_type": "stream",
     "text": [
      "2025/05/11 13:55:48 WARNING mlflow.utils.autologging_utils: You are using an unsupported version of langchain. If you encounter errors during autologging, try upgrading / downgrading langchain to a supported version, or try upgrading MLflow.\n"
     ]
    }
   ],
   "source": [
    "import mlflow\n",
    "import langchain\n",
    "\n",
    "# This is going to allow us to understand what happens during every part of the agent's execution\n",
    "mlflow.langchain.autolog(disable=False)"
   ]
  },
  {
   "cell_type": "markdown",
   "metadata": {
    "application/vnd.databricks.v1+cell": {
     "cellMetadata": {},
     "inputWidgets": {},
     "nuid": "fd61e4d5-bc3f-4aa5-9ab9-fdc13fbd5309",
     "showTitle": false,
     "tableResultSettingsMap": {},
     "title": ""
    }
   },
   "source": [
    "## Step 2: Create Agent\n",
    "\n",
    "In this step, we're going to define three cruicial parts of our agent:\n",
    "- Tools for the Agent to use\n",
    "- LLM to serve as the agent's \"brains\"\n",
    "- System prompt that defines guidelines for the agent's tasks"
   ]
  },
  {
   "cell_type": "code",
   "execution_count": 0,
   "metadata": {
    "application/vnd.databricks.v1+cell": {
     "cellMetadata": {
      "byteLimit": 2048000,
      "rowLimit": 10000
     },
     "inputWidgets": {},
     "nuid": "e1a97b9c-3342-472e-9735-83ff69dbcdf1",
     "showTitle": false,
     "tableResultSettingsMap": {},
     "title": ""
    }
   },
   "outputs": [],
   "source": [
    "from langchain_community.tools.databricks import UCFunctionToolkit\n",
    "from databricks.sdk import WorkspaceClient\n",
    "import pandas as pd\n",
    "import time\n",
    "\n",
    "w = WorkspaceClient()\n",
    "\n",
    "def get_shared_warehouse():\n",
    "    w = WorkspaceClient()\n",
    "    warehouses = w.warehouses.list()\n",
    "    for wh in warehouses:\n",
    "        if wh.name == \"Serverless Starter Warehouse\":\n",
    "            if wh.num_clusters == 0:\n",
    "                w.warehouses.start(wh.id)\n",
    "                time.sleep(5)\n",
    "                return wh\n",
    "            else:\n",
    "                return wh \n",
    "    raise Exception(\"Couldn't find any Warehouse to use. Please start the serverless SQL Warehouse for this code to run.\")\n",
    "    \n",
    "wh_id = get_shared_warehouse().id\n",
    "\n",
    "def get_tools():\n",
    "    return (\n",
    "        UCFunctionToolkit(warehouse_id=wh_id)\n",
    "        .include(\"workspace.default.*\")\n",
    "        .get_tools())"
   ]
  },
  {
   "cell_type": "code",
   "execution_count": 0,
   "metadata": {
    "application/vnd.databricks.v1+cell": {
     "cellMetadata": {
      "byteLimit": 2048000,
      "rowLimit": 10000
     },
     "inputWidgets": {},
     "nuid": "d348a9f0-7939-48fd-bca6-00c486e6911d",
     "showTitle": false,
     "tableResultSettingsMap": {},
     "title": ""
    }
   },
   "outputs": [],
   "source": [
    "from langchain_community.chat_models.databricks import ChatDatabricks\n",
    "\n",
    "# We're going to use llama 3.1 because it's tool enabled and works great. Keep temp at 0 to make it more deterministic.\n",
    "llm = ChatDatabricks(endpoint=\"databricks-meta-llama-3-3-70b-instruct\",\n",
    "    temperature=0.0,\n",
    "    streaming=False)"
   ]
  },
  {
   "cell_type": "code",
   "execution_count": 0,
   "metadata": {
    "application/vnd.databricks.v1+cell": {
     "cellMetadata": {
      "byteLimit": 2048000,
      "rowLimit": 10000
     },
     "inputWidgets": {},
     "nuid": "98aa6c81-bf01-4c37-bb1f-1fc03a29f628",
     "showTitle": false,
     "tableResultSettingsMap": {},
     "title": ""
    }
   },
   "outputs": [],
   "source": [
    "from langchain_core.prompts import ChatPromptTemplate\n",
    "from langchain_community.chat_models import ChatDatabricks\n",
    "\n",
    "# This defines our agent's system prompt. Here we can tell it what we expect it to do and guide it on using specific functions. \n",
    "\n",
    "def get_prompt(history = [], prompt = None):\n",
    "    if not prompt:\n",
    "            prompt = \"\"\"You are a helpful assistant for a global company that oversees cookie stores. Your task is to help store owners understand more about their products and sales metrics. You have the ability to execute functions as follows: \n",
    "\n",
    "            Use the franchise_by_city function to retrieve the franchiseID for a given city name.\n",
    "\n",
    "            Use the franchise_sales function to retrieve the cookie sales for a given franchiseID. This should be run for each franchiseID. Do not ask the user if they want to see another store, just run it for ALL franchiseIDs.\n",
    "\n",
    "    Make sure to call the function for each step and provide a coherent final response to the user. Don't mention tools to your users. Don't skip to the next step without ensuring the function was called and a result was retrieved. Only answer what the user is asking for.\"\"\"\n",
    "    return ChatPromptTemplate.from_messages([\n",
    "            (\"system\", prompt),\n",
    "            (\"human\", \"{messages}\"),\n",
    "            (\"placeholder\", \"{agent_scratchpad}\"),\n",
    "    ])"
   ]
  },
  {
   "cell_type": "code",
   "execution_count": 0,
   "metadata": {
    "application/vnd.databricks.v1+cell": {
     "cellMetadata": {
      "byteLimit": 2048000,
      "rowLimit": 10000
     },
     "inputWidgets": {},
     "nuid": "a8121062-22bb-4cff-83ed-55ade149c0dd",
     "showTitle": false,
     "tableResultSettingsMap": {},
     "title": ""
    }
   },
   "outputs": [],
   "source": [
    "from langchain.agents import AgentExecutor, create_openai_tools_agent, Tool, load_tools\n",
    "\n",
    "prompt = get_prompt()\n",
    "tools = get_tools()\n",
    "agent = create_openai_tools_agent(llm, tools, prompt)\n",
    "\n",
    "# Here we're collecting the defined pieces and putting them together to create our Agent\n",
    "agent_executor = AgentExecutor(agent=agent, tools=tools, verbose=True)"
   ]
  },
  {
   "cell_type": "code",
   "execution_count": 0,
   "metadata": {
    "application/vnd.databricks.v1+cell": {
     "cellMetadata": {
      "byteLimit": 2048000,
      "rowLimit": 10000
     },
     "inputWidgets": {},
     "nuid": "a7feeb83-c5b3-42e4-abf1-285c4bab0d72",
     "showTitle": false,
     "tableResultSettingsMap": {},
     "title": ""
    }
   },
   "outputs": [],
   "source": [
    "from operator import itemgetter\n",
    "from langchain.schema.runnable import RunnableLambda\n",
    "from langchain_core.output_parsers import StrOutputParser\n",
    "\n",
    "# Very basic chain that allows us to pass the input (messages) into the Agent and collect the (output) as a string\n",
    "agent_str = ({ \"messages\": itemgetter(\"messages\")} | agent_executor | itemgetter(\"output\") | StrOutputParser() )"
   ]
  },
  {
   "cell_type": "code",
   "execution_count": 0,
   "metadata": {
    "application/vnd.databricks.v1+cell": {
     "cellMetadata": {
      "byteLimit": 2048000,
      "rowLimit": 10000
     },
     "inputWidgets": {},
     "nuid": "4df1c923-285f-4e95-a413-3742d16f7932",
     "showTitle": false,
     "tableResultSettingsMap": {},
     "title": ""
    }
   },
   "outputs": [
    {
     "output_type": "stream",
     "name": "stdout",
     "output_type": "stream",
     "text": [
      "\n\n\u001B[1m> Entering new AgentExecutor chain...\u001B[0m\n\u001B[32;1m\u001B[1;3m\nInvoking: `workspace__default__franchise_by_city` with `{'city_name': 'Seattle'}`\n\n\n\u001B[0m\u001B[36;1m\u001B[1;3m{\"format\": \"CSV\", \"value\": \"franchiseID,name,size\\n3000038,Dough Delights,XXL\\n3000014,Sweet Temptations,L\\n\", \"truncated\": false}\u001B[0m\u001B[32;1m\u001B[1;3m\nInvoking: `workspace__default__franchise_sales` with `{'franchise_id': 3000038}`\n\n\n\u001B[0m\u001B[33;1m\u001B[1;3m{\"format\": \"CSV\", \"value\": \"total_sales,total_quantity,product\\n108,36,Austin Almond Biscotti\\n348,116,Outback Oatmeal\\n138,46,Pearly Pies\\n189,63,Golden Gate Ginger\\n51,17,Tokyo Tidbits\\n108,36,Orchard Oasis\\n\", \"truncated\": false}\u001B[0m\u001B[32;1m\u001B[1;3m\nInvoking: `workspace__default__franchise_sales` with `{'franchise_id': 3000014}`\n\n\n\u001B[0m\u001B[33;1m\u001B[1;3m{\"format\": \"CSV\", \"value\": \"total_sales,total_quantity,product\\n27,9,Austin Almond Biscotti\\n48,16,Outback Oatmeal\\n42,14,Pearly Pies\\n42,14,Golden Gate Ginger\\n36,12,Tokyo Tidbits\\n30,10,Orchard Oasis\\n\", \"truncated\": false}\u001B[0m\u001B[32;1m\u001B[1;3mThe best selling cookie in the Seattle stores is the Outback Oatmeal cookie from the Dough Delights store, with 116 units sold, and also the Outback Oatmeal cookie from the Sweet Temptations store, with 16 units sold.\u001B[0m\n\n\u001B[1m> Finished chain.\u001B[0m\n"
     ]
    },
    {
     "output_type": "display_data",
     "data": {
      "application/databricks.mlflow.trace": "\"tr-549a1d3dbbdd41229598dcb885ba9e5d\"",
      "text/plain": [
       "Trace(request_id=tr-549a1d3dbbdd41229598dcb885ba9e5d)"
      ]
     },
     "metadata": {},
     "output_type": "display_data"
    }
   ],
   "source": [
    "# Lets ask our Compound AI Agent to generate an Instagram post. This requires it to:\n",
    "#     1. Look up what stores are in Seattle\n",
    "#     2. Use sales data to look up the best selling cookie at that store\n",
    "\n",
    "answer=agent_str.invoke({\"messages\": \"What is the best selling cookie in our Seattle stores?\"})"
   ]
  },
  {
   "cell_type": "markdown",
   "metadata": {
    "application/vnd.databricks.v1+cell": {
     "cellMetadata": {},
     "inputWidgets": {},
     "nuid": "2b137098-a4ad-4501-aeb7-6faac78b0c92",
     "showTitle": false,
     "tableResultSettingsMap": {},
     "title": ""
    }
   },
   "source": [
    "## Excited for more?\n",
    "\n",
    "- Catch the full demo in action [here](https://www.youtube.com/watch?v=UfbyzK488Hk&t=3501s). \n",
    "- Take the next step and build a [RAG-based chatbot](https://www.databricks.com/resources/demos/tutorials/data-science-and-ai/lakehouse-ai-deploy-your-llm-chatbot?itm_data=demo_center) with added contextual depth!"
   ]
  }
 ],
 "metadata": {
  "application/vnd.databricks.v1+notebook": {
   "computePreferences": null,
   "dashboards": [],
   "environmentMetadata": null,
   "inputWidgetPreferences": null,
   "language": "python",
   "notebookMetadata": {
    "mostRecentlyExecutedCommandWithImplicitDF": {
     "commandId": 4049551617170031,
     "dataframes": [
      "_sqldf"
     ]
    },
    "pythonIndentUnit": 4
   },
   "notebookName": "Build your first AI agent",
   "widgets": {}
  },
  "language_info": {
   "name": "python"
  }
 },
 "nbformat": 4,
 "nbformat_minor": 0
}